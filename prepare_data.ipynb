{
 "cells": [
  {
   "cell_type": "code",
   "execution_count": 1,
   "metadata": {},
   "outputs": [
    {
     "name": "stderr",
     "output_type": "stream",
     "text": [
      "/Users/sathyakrishnansuresh/Desktop/gpt-variations/venv/lib/python3.11/site-packages/tqdm/auto.py:21: TqdmWarning: IProgress not found. Please update jupyter and ipywidgets. See https://ipywidgets.readthedocs.io/en/stable/user_install.html\n",
      "  from .autonotebook import tqdm as notebook_tqdm\n"
     ]
    }
   ],
   "source": [
    "from datasets import load_dataset\n",
    "import pandas as pd\n",
    "from transformers import AutoTokenizer"
   ]
  },
  {
   "cell_type": "code",
   "execution_count": 2,
   "metadata": {},
   "outputs": [],
   "source": [
    "tokenizer = AutoTokenizer.from_pretrained(\"gpt2\")"
   ]
  },
  {
   "cell_type": "code",
   "execution_count": 3,
   "metadata": {},
   "outputs": [],
   "source": [
    "code_1 = \"espejelomar/code_search_net_python_10000_examples\"\n",
    "code_2 = \"flytech/python-codes-25k\"\n",
    "code_3 = \"iamtarun/python_code_instructions_18k_alpaca\""
   ]
  },
  {
   "cell_type": "code",
   "execution_count": 4,
   "metadata": {},
   "outputs": [],
   "source": [
    "ds_1 = load_dataset(code_1)\n",
    "ds_2 = load_dataset(code_2)\n",
    "ds_3 = load_dataset(code_3)\n",
    "ds_4 = load_dataset(\"huggingface-course/codeparrot-ds-train\", split=\"train\").shuffle().select(range(10000))\n",
    "ds_5 = load_dataset(\"huggingface-course/codeparrot-ds-valid\", split=\"validation\").shuffle().select(range(3000))"
   ]
  },
  {
   "cell_type": "code",
   "execution_count": 5,
   "metadata": {},
   "outputs": [],
   "source": [
    "ds_1 = ds_1.remove_columns([col for col in ds_1['train'].column_names if col!='whole_func_string'])\n",
    "ds_2 = ds_2.remove_columns([col for col in ds_2['train'].column_names if col!='output'])\n",
    "ds_3 = ds_3.remove_columns([col for col in ds_3['train'].column_names if col!='output'])\n",
    "ds_4 = ds_4.remove_columns([col for col in ds_4.column_names if col!='content'])\n",
    "ds_5 = ds_5.remove_columns([col for col in ds_5.column_names if col!='content'])"
   ]
  },
  {
   "cell_type": "code",
   "execution_count": 6,
   "metadata": {},
   "outputs": [],
   "source": [
    "df_1 = ds_1['train'].to_pandas()\n",
    "df_2 = ds_2['train'].to_pandas()\n",
    "df_3 = ds_3['train'].to_pandas()\n",
    "df_4 = ds_4.to_pandas()\n",
    "df_5 = ds_5.to_pandas()"
   ]
  },
  {
   "cell_type": "code",
   "execution_count": 7,
   "metadata": {},
   "outputs": [
    {
     "data": {
      "text/plain": [
       "((10000, 1), (49626, 1), (18612, 1), (10000, 1), (3000, 1))"
      ]
     },
     "execution_count": 7,
     "metadata": {},
     "output_type": "execute_result"
    }
   ],
   "source": [
    "df_1.shape, df_2.shape, df_3.shape, df_4.shape, df_5.shape"
   ]
  },
  {
   "cell_type": "code",
   "execution_count": 8,
   "metadata": {},
   "outputs": [],
   "source": [
    "df_1.rename({\"whole_func_string\": \"code\"}, axis=1, inplace=True)\n",
    "df_2.rename({\"output\": \"code\"}, axis=1, inplace=True)\n",
    "df_3.rename({\"output\": \"code\"}, axis=1, inplace=True)\n",
    "df_4.rename({\"content\": \"code\"}, axis=1, inplace=True)\n",
    "df_5.rename({\"content\": \"code\"}, axis=1, inplace=True)"
   ]
  },
  {
   "cell_type": "code",
   "execution_count": 9,
   "metadata": {},
   "outputs": [],
   "source": [
    "df = pd.concat([df_1, df_2, df_3, df_4, df_5], axis=0, ignore_index=True)"
   ]
  },
  {
   "cell_type": "code",
   "execution_count": 10,
   "metadata": {},
   "outputs": [],
   "source": [
    "df.to_csv(\"data/data.csv\", index=False)"
   ]
  },
  {
   "cell_type": "markdown",
   "metadata": {},
   "source": [
    "## tokenize"
   ]
  },
  {
   "cell_type": "code",
   "execution_count": 11,
   "metadata": {},
   "outputs": [],
   "source": [
    "from transformers import AutoTokenizer\n",
    "import pandas as pd\n",
    "import numpy as np\n",
    "import random"
   ]
  },
  {
   "cell_type": "code",
   "execution_count": 12,
   "metadata": {},
   "outputs": [],
   "source": [
    "tokenizer = AutoTokenizer.from_pretrained(\"gpt2\")"
   ]
  },
  {
   "cell_type": "code",
   "execution_count": 13,
   "metadata": {},
   "outputs": [],
   "source": [
    "df = pd.read_csv(\"data/data.csv\")"
   ]
  },
  {
   "cell_type": "code",
   "execution_count": 14,
   "metadata": {},
   "outputs": [],
   "source": [
    "def tokenize(code):\n",
    "    code = code + tokenizer.eos_token\n",
    "    tokens = tokenizer.encode(code)\n",
    "    return np.array(tokens)"
   ]
  },
  {
   "cell_type": "code",
   "execution_count": 15,
   "metadata": {},
   "outputs": [
    {
     "name": "stderr",
     "output_type": "stream",
     "text": [
      "Token indices sequence length is longer than the specified maximum sequence length for this model (1087 > 1024). Running this sequence through the model will result in indexing errors\n"
     ]
    }
   ],
   "source": [
    "random.seed(2406)\n",
    "idx = df.index\n",
    "train_idxs = set(random.sample(list(idx), k=int(len(idx)*0.9)))\n",
    "test_idxs = set(idx).difference(train_idxs)\n",
    "\n",
    "train_df = df.iloc[list(train_idxs)]\n",
    "test_df = df.iloc[list(test_idxs)]\n",
    "\n",
    "train_data, test_data = [], []\n",
    "\n",
    "for i in range(train_df.shape[0]):\n",
    "    train_data.extend(tokenize(train_df.iloc[i, 0]))\n",
    "\n",
    "for i in range(test_df.shape[0]):\n",
    "    test_data.extend(tokenize(test_df.iloc[i, 0]))"
   ]
  },
  {
   "cell_type": "code",
   "execution_count": 16,
   "metadata": {},
   "outputs": [
    {
     "name": "stdout",
     "output_type": "stream",
     "text": [
      "82529957 9760431\n"
     ]
    }
   ],
   "source": [
    "print(len(train_data), len(test_data))"
   ]
  },
  {
   "cell_type": "code",
   "execution_count": 17,
   "metadata": {},
   "outputs": [],
   "source": [
    "train_data = np.array(train_data)\n",
    "test_data = np.array(test_data)"
   ]
  },
  {
   "cell_type": "code",
   "execution_count": 18,
   "metadata": {},
   "outputs": [],
   "source": [
    "np.save('data/train.npy', arr=train_data)\n",
    "np.save('data/test.npy', arr=test_data)"
   ]
  }
 ],
 "metadata": {
  "kernelspec": {
   "display_name": "venv",
   "language": "python",
   "name": "python3"
  },
  "language_info": {
   "codemirror_mode": {
    "name": "ipython",
    "version": 3
   },
   "file_extension": ".py",
   "mimetype": "text/x-python",
   "name": "python",
   "nbconvert_exporter": "python",
   "pygments_lexer": "ipython3",
   "version": "3.11.9"
  }
 },
 "nbformat": 4,
 "nbformat_minor": 2
}
