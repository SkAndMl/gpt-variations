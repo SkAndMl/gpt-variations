{
 "cells": [
  {
   "cell_type": "code",
   "execution_count": 1,
   "metadata": {},
   "outputs": [
    {
     "name": "stderr",
     "output_type": "stream",
     "text": [
      "/Users/sathyakrishnansuresh/Desktop/translate-former/venv/lib/python3.11/site-packages/tqdm/auto.py:21: TqdmWarning: IProgress not found. Please update jupyter and ipywidgets. See https://ipywidgets.readthedocs.io/en/stable/user_install.html\n",
      "  from .autonotebook import tqdm as notebook_tqdm\n",
      "Repo card metadata block was not found. Setting CardData to empty.\n",
      "Repo card metadata block was not found. Setting CardData to empty.\n"
     ]
    }
   ],
   "source": [
    "from datasets import load_dataset\n",
    "from itertools import islice\n",
    "\n",
    "split_sizes = {\n",
    "    \"train\": 10000,\n",
    "    \"valid\": 1000\n",
    "}\n",
    "\n",
    "for split in split_sizes:\n",
    "    dataset = load_dataset(f\"transformersbook/codeparrot-{split}\", split=\"validation\" if split==\"valid\" else split, streaming=True)\n",
    "    split_rows = list(islice(dataset, split_sizes[split]))\n",
    "\n",
    "    with open(f\"{split}.txt\", \"w\") as f:\n",
    "        for row in split_rows:\n",
    "            f.write(row[\"content\"]+\"\\n\")"
   ]
  }
 ],
 "metadata": {
  "kernelspec": {
   "display_name": "venv",
   "language": "python",
   "name": "python3"
  },
  "language_info": {
   "codemirror_mode": {
    "name": "ipython",
    "version": 3
   },
   "file_extension": ".py",
   "mimetype": "text/x-python",
   "name": "python",
   "nbconvert_exporter": "python",
   "pygments_lexer": "ipython3",
   "version": "3.11.7"
  }
 },
 "nbformat": 4,
 "nbformat_minor": 2
}
